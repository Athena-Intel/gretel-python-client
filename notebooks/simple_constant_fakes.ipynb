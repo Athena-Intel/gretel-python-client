{
  "nbformat": 4,
  "nbformat_minor": 0,
  "metadata": {
    "colab": {
      "name": "simple_constant_fakes.ipynb",
      "provenance": []
    },
    "kernelspec": {
      "name": "python3",
      "display_name": "Python 3"
    }
  },
  "cells": [
    {
      "cell_type": "markdown",
      "metadata": {
        "id": "nrb_yiKW1GjF"
      },
      "source": [
        "## Overview\n",
        "\n",
        "Using Gretel's Transformation tools we walk-through an example of replacing a field value with a fake entity using the original value. These transformations are based on the source value, and transform values deterministically without requiring a lookup table or database. While this demonstration runs as a notebook, this same pipeline can be deployed into a variety of different data stacks.\n",
        "\n",
        "A seed value is required for the transformers. Using the same seed will help ensure that you get the same fake value for any given input value."
      ]
    },
    {
      "cell_type": "code",
      "metadata": {
        "id": "EVncB88W06xt",
        "outputId": "340c6dd3-874e-4b2f-dab3-fc826a887d69",
        "colab": {
          "base_uri": "https://localhost:8080/"
        }
      },
      "source": [
        "!pip install -Uqq gretel-client\n"
      ],
      "execution_count": 1,
      "outputs": [
        {
          "output_type": "stream",
          "text": [
            "\u001b[K     |████████████████████████████████| 71kB 2.0MB/s \n",
            "\u001b[K     |████████████████████████████████| 1.0MB 7.3MB/s \n",
            "\u001b[K     |████████████████████████████████| 133kB 37.9MB/s \n",
            "\u001b[K     |████████████████████████████████| 61kB 6.2MB/s \n",
            "\u001b[K     |████████████████████████████████| 61kB 6.8MB/s \n",
            "\u001b[K     |████████████████████████████████| 133kB 31.0MB/s \n",
            "\u001b[K     |████████████████████████████████| 6.8MB 22.9MB/s \n",
            "\u001b[K     |████████████████████████████████| 71kB 7.4MB/s \n",
            "\u001b[?25h  Building wheel for smart-open (setup.py) ... \u001b[?25l\u001b[?25hdone\n",
            "\u001b[31mERROR: google-colab 1.0.0 has requirement requests~=2.23.0, but you'll have requests 2.25.0 which is incompatible.\u001b[0m\n",
            "\u001b[31mERROR: datascience 0.10.6 has requirement folium==0.2.1, but you'll have folium 0.8.3 which is incompatible.\u001b[0m\n",
            "\u001b[31mERROR: botocore 1.19.16 has requirement urllib3<1.26,>=1.25.4; python_version != \"3.4\", but you'll have urllib3 1.24.3 which is incompatible.\u001b[0m\n"
          ],
          "name": "stdout"
        }
      ]
    },
    {
      "cell_type": "code",
      "metadata": {
        "id": "n4j8lfiH2LDg",
        "outputId": "c87bb43a-5d80-4932-eb27-ec126e3be972",
        "colab": {
          "base_uri": "https://localhost:8080/"
        }
      },
      "source": [
        "from gretel_client.transformers import DataPath, DataTransformPipeline\n",
        "from gretel_client.transformers import FakeConstantConfig\n",
        "\n",
        "SEED = 8675309\n",
        "\n",
        "SOURCE = [\n",
        "    {\n",
        "        \"activity\": \"Wedding Crasher\",\n",
        "        \"guest\": \"Seamus O'Toole\",\n",
        "        \"location\": \"Washington DC\",\n",
        "    },\n",
        "    {\n",
        "        \"activity\": \"Wedding Crasher\",\n",
        "        \"guest\": \"Bobby O'Shea\",\n",
        "        \"location\": \"Baltimore\"\n",
        "    },\n",
        "]\n",
        "\n",
        "# Deterministically replace field values with new, fake names and cities.\n",
        "guest_xf = FakeConstantConfig(seed=SEED, fake_method=\"name\")\n",
        "location_xf = FakeConstantConfig(seed=SEED, fake_method=\"city\")\n",
        "\n",
        "paths = [\n",
        "    DataPath(input=\"guest\", xforms=[guest_xf]),\n",
        "    DataPath(input=\"location\", xforms=[location_xf]),\n",
        "    DataPath(input=\"*\"),\n",
        "]\n",
        "\n",
        "pipe = DataTransformPipeline(paths)\n",
        "\n",
        "results = []\n",
        "\n",
        "for record in SOURCE:\n",
        "    results.append(pipe.transform_record(record))\n",
        "\n",
        "assert results == [\n",
        "    {\n",
        "        \"activity\": \"Wedding Crasher\",\n",
        "        \"guest\": \"Sean Johnson\",\n",
        "        \"location\": \"Smithtown\"\n",
        "    },\n",
        "    {\n",
        "        \"activity\": \"Wedding Crasher\",\n",
        "        \"guest\": \"Christopher Obrien\",\n",
        "        \"location\": \"Katiebury\",\n",
        "    },\n",
        "]\n",
        "\n",
        "print(results)"
      ],
      "execution_count": 2,
      "outputs": [
        {
          "output_type": "stream",
          "text": [
            "[{'activity': 'Wedding Crasher', 'guest': 'Sean Johnson', 'location': 'Smithtown'}, {'activity': 'Wedding Crasher', 'guest': 'Christopher Obrien', 'location': 'Katiebury'}]\n"
          ],
          "name": "stdout"
        }
      ]
    }
  ]
}